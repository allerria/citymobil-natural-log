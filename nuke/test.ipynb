{
 "cells": [
  {
   "cell_type": "code",
   "execution_count": 1,
   "metadata": {
    "collapsed": true,
    "pycharm": {
     "is_executing": false
    }
   },
   "outputs": [],
   "source": [
    "import pandas as pd\n",
    "import polyline as pl\n",
    "\n",
    "\n",
    "df = pd.read_csv(\"../data/../data/train.csv/train.csv\")"
   ]
  },
  {
   "cell_type": "code",
   "execution_count": 4,
   "outputs": [
    {
     "name": "stdout",
     "text": [
      "            Id  main_id_locality     ETA     RTA          OrderedDate  \\\n",
      "0            0               338  1249.0  1076.0  2020-03-11 20:43:49   \n",
      "1            1             22402  1822.0  1812.0  2020-02-03 14:27:22   \n",
      "2            2             22394   410.0   336.0  2020-02-22 11:15:02   \n",
      "3            3             22406   653.0   558.0  2020-02-26 22:21:28   \n",
      "4            4             22406   518.0   463.0  2020-01-31 07:24:25   \n",
      "...        ...               ...     ...     ...                  ...   \n",
      "655652  655652             22406  2528.0  2334.0  2020-02-07 16:31:32   \n",
      "655653  655653             22406   976.0  1057.0  2020-01-29 10:27:27   \n",
      "655654  655654               338  1756.0  1286.0  2020-03-06 23:22:17   \n",
      "655655  655655             22394   405.0   330.0  2020-02-17 18:26:33   \n",
      "655656  655656             22402  1769.0  1708.0  2020-02-19 20:59:53   \n",
      "\n",
      "         latitude  del_latitude  longitude  del_longitude   EDA  ...  \\\n",
      "0       45.013191     45.040428  38.981220      39.026501   7.0  ...   \n",
      "1       54.735378     54.710651  55.961922      55.822079  15.0  ...   \n",
      "2       53.529202     53.543640  49.337990      49.351028   2.0  ...   \n",
      "3       56.836250     56.863159  60.632580      60.654831   4.0  ...   \n",
      "4       56.798431     56.782021  60.632622      60.681702   6.0  ...   \n",
      "...           ...           ...        ...            ...   ...  ...   \n",
      "655652  56.866631     56.964691  60.581718      60.610901  14.0  ...   \n",
      "655653  56.833839     56.829021  60.661331      60.610310   5.0  ...   \n",
      "655654  45.025242     45.067230  39.049549      38.948540  12.0  ...   \n",
      "655655  53.514900     53.521019  49.408798      49.429401   2.0  ...   \n",
      "655656  54.647461     54.786880  55.922482      56.043362  21.0  ...   \n",
      "\n",
      "        ready_latitude ready_longitude onway_latitude onway_longitude  \\\n",
      "0            45.012991       38.981120      45.012991       38.981120   \n",
      "1            54.735327       55.961558      54.735515       55.962046   \n",
      "2            53.530384       49.339986      53.529227       49.338437   \n",
      "3            56.836830       60.633442      56.836830       60.633442   \n",
      "4            56.798378       60.632567      56.798399       60.632575   \n",
      "...                ...             ...            ...             ...   \n",
      "655652       56.866504       60.581066      56.866916       60.581291   \n",
      "655653       56.834474       60.660619      56.833930       60.660838   \n",
      "655654       45.025098       39.049916      45.025296       39.049950   \n",
      "655655       53.514832       49.409634      53.515339       49.408984   \n",
      "655656       54.647401       55.922557      54.647574       55.922611   \n",
      "\n",
      "        arrived_latitude  arrived_longitude  center_latitude  \\\n",
      "0              45.040108          39.026086        45.040235   \n",
      "1              54.710222          55.822577        54.734853   \n",
      "2              53.543038          49.350991        53.516670   \n",
      "3              56.862945          60.654256        56.838633   \n",
      "4              56.782251          60.682133        56.838633   \n",
      "...                  ...                ...              ...   \n",
      "655652         56.964622          60.610586        56.838633   \n",
      "655653         56.828464          60.609261        56.838633   \n",
      "655654         45.067475          38.948859        45.040235   \n",
      "655655         53.520822          49.429026        53.516670   \n",
      "655656         54.786868          56.043631        54.734853   \n",
      "\n",
      "        center_longitude                                              route  \\\n",
      "0              38.976080  stvqG{n|lFf@bCN|@NhBH~D?n@MvC_@rES`B??YFWCoAgE...   \n",
      "1              55.957865  ooamI}`qtIXtE??h@_@|@^??lAaN??jA`@??XwD`@_E|@u...   \n",
      "2              49.416670  u}ueI_hclHwBkGaDqJo@oA]OiCuHK[M{@??Ag@Ie@UYSIU...   \n",
      "3              60.605489  qy{yIshaqJuADoAS_Bb@??UiE??wIfCgOrD}FhB_Bd@??m...   \n",
      "4              60.605489  gmtyI{haqJ\\f@??]pA]|@i@t@[Z_@X??c@gDcAoI??aEzB...   \n",
      "...                  ...                                                ...   \n",
      "655652         60.605489  mwazIyjwpJf@{@??UaAS_BKiBCi@??kBGyB?e@[Ma@SwAy...   \n",
      "655653         60.605489  oj{yIi|fqJo@PCJLvB?PGPOHQB[HoATaCr@a@H??Z|Fv@f...   \n",
      "655654         38.976080  y~xqGszimFd@????yB??nP@??R|AHX??A`@Db@AXDjAXxD...   \n",
      "655655         49.416670  kcseIycqlHGY??bBeCdAkBTe@ZcA??wA}DuG{PY}@O}@g@...   \n",
      "655656         55.957865  miplIqjitIaAi@[?YCiC_@uD]aD_@sDOwDW??gBlC??_Ch...   \n",
      "\n",
      "                                                    track  \n",
      "0                                                     NaN  \n",
      "1       m_qtI}namIWEQASCO?@B@@A@??????????EAKEBKHGDA??...  \n",
      "2       wlclHk}ueIGJVH????LJEJ\\AtCJbBTHFVB?n@hC\\`@iBiA...  \n",
      "3       upaqJ{b|yI??^Dl@RFRCTFPNP?PIXGVAH????AA?????A@...  \n",
      "4                                                     NaN  \n",
      "...                                                   ...  \n",
      "655652  ahwpJiyazI?????????????????????????????????@KJ...  \n",
      "655653                                                NaN  \n",
      "655654                                                NaN  \n",
      "655655  geqlHweseI?A??A???@?RGTQ^Wp@e@`@W\\WFEEB????@??...  \n",
      "655656  akitIiiplI??FFDB@?@?????@?????CAA??????@???A?A...  \n",
      "\n",
      "[655657 rows x 24 columns]\n"
     ],
     "output_type": "stream"
    }
   ],
   "source": [
    "print(df)\n",
    "\n"
   ],
   "metadata": {
    "collapsed": false,
    "pycharm": {
     "name": "#%%\n",
     "is_executing": false
    }
   }
  },
  {
   "cell_type": "code",
   "execution_count": 3,
   "outputs": [
    {
     "traceback": [
      "\u001b[1;31m---------------------------------------------------------------------------\u001b[0m",
      "\u001b[1;31mTypeError\u001b[0m                                 Traceback (most recent call last)",
      "\u001b[1;32m<ipython-input-3-9ba348953701>\u001b[0m in \u001b[0;36m<module>\u001b[1;34m\u001b[0m\n\u001b[1;32m----> 1\u001b[1;33m \u001b[0mpl\u001b[0m\u001b[1;33m.\u001b[0m\u001b[0mdecode\u001b[0m\u001b[1;33m(\u001b[0m\u001b[0mdf\u001b[0m\u001b[1;33m.\u001b[0m\u001b[0miloc\u001b[0m\u001b[1;33m[\u001b[0m\u001b[1;36m0\u001b[0m\u001b[1;33m]\u001b[0m\u001b[1;33m.\u001b[0m\u001b[0mtrack\u001b[0m\u001b[1;33m)\u001b[0m\u001b[1;33m\u001b[0m\u001b[1;33m\u001b[0m\u001b[0m\n\u001b[0m\u001b[0;32m      2\u001b[0m \u001b[1;33m\u001b[0m\u001b[0m\n\u001b[0;32m      3\u001b[0m \u001b[1;33m\u001b[0m\u001b[0m\n",
      "\u001b[1;32mc:\\users\\alexey\\appdata\\local\\programs\\python\\python38\\lib\\site-packages\\polyline\\__init__.py\u001b[0m in \u001b[0;36mdecode\u001b[1;34m(expression, precision, geojson)\u001b[0m\n\u001b[0;32m     14\u001b[0m     \u001b[1;33m:\u001b[0m\u001b[1;32mreturn\u001b[0m\u001b[1;33m:\u001b[0m \u001b[0mList\u001b[0m \u001b[0mof\u001b[0m \u001b[0mcoordinate\u001b[0m \u001b[0mtuples\u001b[0m \u001b[1;32min\u001b[0m \u001b[1;33m(\u001b[0m\u001b[0mlat\u001b[0m\u001b[1;33m,\u001b[0m \u001b[0mlon\u001b[0m\u001b[1;33m)\u001b[0m \u001b[0morder\u001b[0m\u001b[1;33m,\u001b[0m \u001b[0munless\u001b[0m \u001b[0mgeojson\u001b[0m \u001b[1;32mis\u001b[0m \u001b[0mset\u001b[0m \u001b[0mto\u001b[0m \u001b[1;32mTrue\u001b[0m\u001b[1;33m.\u001b[0m\u001b[1;33m\u001b[0m\u001b[1;33m\u001b[0m\u001b[0m\n\u001b[0;32m     15\u001b[0m     \"\"\"\n\u001b[1;32m---> 16\u001b[1;33m     \u001b[1;32mreturn\u001b[0m \u001b[0mPolylineCodec\u001b[0m\u001b[1;33m(\u001b[0m\u001b[1;33m)\u001b[0m\u001b[1;33m.\u001b[0m\u001b[0mdecode\u001b[0m\u001b[1;33m(\u001b[0m\u001b[0mexpression\u001b[0m\u001b[1;33m,\u001b[0m \u001b[0mprecision\u001b[0m\u001b[1;33m,\u001b[0m \u001b[0mgeojson\u001b[0m\u001b[1;33m)\u001b[0m\u001b[1;33m\u001b[0m\u001b[1;33m\u001b[0m\u001b[0m\n\u001b[0m\u001b[0;32m     17\u001b[0m \u001b[1;33m\u001b[0m\u001b[0m\n\u001b[0;32m     18\u001b[0m \u001b[1;33m\u001b[0m\u001b[0m\n",
      "\u001b[1;32mc:\\users\\alexey\\appdata\\local\\programs\\python\\python38\\lib\\site-packages\\polyline\\codec.py\u001b[0m in \u001b[0;36mdecode\u001b[1;34m(self, expression, precision, geojson)\u001b[0m\n\u001b[0;32m     38\u001b[0m \u001b[1;33m\u001b[0m\u001b[0m\n\u001b[0;32m     39\u001b[0m     \u001b[1;32mdef\u001b[0m \u001b[0mdecode\u001b[0m\u001b[1;33m(\u001b[0m\u001b[0mself\u001b[0m\u001b[1;33m,\u001b[0m \u001b[0mexpression\u001b[0m\u001b[1;33m,\u001b[0m \u001b[0mprecision\u001b[0m\u001b[1;33m=\u001b[0m\u001b[1;36m5\u001b[0m\u001b[1;33m,\u001b[0m \u001b[0mgeojson\u001b[0m\u001b[1;33m=\u001b[0m\u001b[1;32mFalse\u001b[0m\u001b[1;33m)\u001b[0m\u001b[1;33m:\u001b[0m\u001b[1;33m\u001b[0m\u001b[1;33m\u001b[0m\u001b[0m\n\u001b[1;32m---> 40\u001b[1;33m         \u001b[0mcoordinates\u001b[0m\u001b[1;33m,\u001b[0m \u001b[0mindex\u001b[0m\u001b[1;33m,\u001b[0m \u001b[0mlat\u001b[0m\u001b[1;33m,\u001b[0m \u001b[0mlng\u001b[0m\u001b[1;33m,\u001b[0m \u001b[0mlength\u001b[0m\u001b[1;33m,\u001b[0m \u001b[0mfactor\u001b[0m \u001b[1;33m=\u001b[0m \u001b[1;33m[\u001b[0m\u001b[1;33m]\u001b[0m\u001b[1;33m,\u001b[0m \u001b[1;36m0\u001b[0m\u001b[1;33m,\u001b[0m \u001b[1;36m0\u001b[0m\u001b[1;33m,\u001b[0m \u001b[1;36m0\u001b[0m\u001b[1;33m,\u001b[0m \u001b[0mlen\u001b[0m\u001b[1;33m(\u001b[0m\u001b[0mexpression\u001b[0m\u001b[1;33m)\u001b[0m\u001b[1;33m,\u001b[0m \u001b[0mfloat\u001b[0m\u001b[1;33m(\u001b[0m\u001b[1;36m10\u001b[0m \u001b[1;33m**\u001b[0m \u001b[0mprecision\u001b[0m\u001b[1;33m)\u001b[0m\u001b[1;33m\u001b[0m\u001b[1;33m\u001b[0m\u001b[0m\n\u001b[0m\u001b[0;32m     41\u001b[0m \u001b[1;33m\u001b[0m\u001b[0m\n\u001b[0;32m     42\u001b[0m         \u001b[1;32mwhile\u001b[0m \u001b[0mindex\u001b[0m \u001b[1;33m<\u001b[0m \u001b[0mlength\u001b[0m\u001b[1;33m:\u001b[0m\u001b[1;33m\u001b[0m\u001b[1;33m\u001b[0m\u001b[0m\n",
      "\u001b[1;31mTypeError\u001b[0m: object of type 'float' has no len()"
     ],
     "ename": "TypeError",
     "evalue": "object of type 'float' has no len()",
     "output_type": "error"
    }
   ],
   "source": [
    "pl.decode(df.iloc[0].track)\n",
    "\n"
   ],
   "metadata": {
    "collapsed": false,
    "pycharm": {
     "name": "#%%\n",
     "is_executing": false
    }
   }
  },
  {
   "cell_type": "code",
   "execution_count": 6,
   "outputs": [
    {
     "data": {
      "text/plain": "<folium.folium.Map at 0x22b00090850>",
      "text/html": "<div style=\"width:100%;\"><div style=\"position:relative;width:100%;height:0;padding-bottom:60%;\"><iframe src=\"about:blank\" style=\"position:absolute;width:100%;height:100%;left:0;top:0;border:none !important;\" data-html=PCFET0NUWVBFIGh0bWw+CjxoZWFkPiAgICAKICAgIDxtZXRhIGh0dHAtZXF1aXY9ImNvbnRlbnQtdHlwZSIgY29udGVudD0idGV4dC9odG1sOyBjaGFyc2V0PVVURi04IiAvPgogICAgCiAgICAgICAgPHNjcmlwdD4KICAgICAgICAgICAgTF9OT19UT1VDSCA9IGZhbHNlOwogICAgICAgICAgICBMX0RJU0FCTEVfM0QgPSBmYWxzZTsKICAgICAgICA8L3NjcmlwdD4KICAgIAogICAgPHNjcmlwdCBzcmM9Imh0dHBzOi8vY2RuLmpzZGVsaXZyLm5ldC9ucG0vbGVhZmxldEAxLjUuMS9kaXN0L2xlYWZsZXQuanMiPjwvc2NyaXB0PgogICAgPHNjcmlwdCBzcmM9Imh0dHBzOi8vY29kZS5qcXVlcnkuY29tL2pxdWVyeS0xLjEyLjQubWluLmpzIj48L3NjcmlwdD4KICAgIDxzY3JpcHQgc3JjPSJodHRwczovL21heGNkbi5ib290c3RyYXBjZG4uY29tL2Jvb3RzdHJhcC8zLjIuMC9qcy9ib290c3RyYXAubWluLmpzIj48L3NjcmlwdD4KICAgIDxzY3JpcHQgc3JjPSJodHRwczovL2NkbmpzLmNsb3VkZmxhcmUuY29tL2FqYXgvbGlicy9MZWFmbGV0LmF3ZXNvbWUtbWFya2Vycy8yLjAuMi9sZWFmbGV0LmF3ZXNvbWUtbWFya2Vycy5qcyI+PC9zY3JpcHQ+CiAgICA8bGluayByZWw9InN0eWxlc2hlZXQiIGhyZWY9Imh0dHBzOi8vY2RuLmpzZGVsaXZyLm5ldC9ucG0vbGVhZmxldEAxLjUuMS9kaXN0L2xlYWZsZXQuY3NzIi8+CiAgICA8bGluayByZWw9InN0eWxlc2hlZXQiIGhyZWY9Imh0dHBzOi8vbWF4Y2RuLmJvb3RzdHJhcGNkbi5jb20vYm9vdHN0cmFwLzMuMi4wL2Nzcy9ib290c3RyYXAubWluLmNzcyIvPgogICAgPGxpbmsgcmVsPSJzdHlsZXNoZWV0IiBocmVmPSJodHRwczovL21heGNkbi5ib290c3RyYXBjZG4uY29tL2Jvb3RzdHJhcC8zLjIuMC9jc3MvYm9vdHN0cmFwLXRoZW1lLm1pbi5jc3MiLz4KICAgIDxsaW5rIHJlbD0ic3R5bGVzaGVldCIgaHJlZj0iaHR0cHM6Ly9tYXhjZG4uYm9vdHN0cmFwY2RuLmNvbS9mb250LWF3ZXNvbWUvNC42LjMvY3NzL2ZvbnQtYXdlc29tZS5taW4uY3NzIi8+CiAgICA8bGluayByZWw9InN0eWxlc2hlZXQiIGhyZWY9Imh0dHBzOi8vY2RuanMuY2xvdWRmbGFyZS5jb20vYWpheC9saWJzL0xlYWZsZXQuYXdlc29tZS1tYXJrZXJzLzIuMC4yL2xlYWZsZXQuYXdlc29tZS1tYXJrZXJzLmNzcyIvPgogICAgPGxpbmsgcmVsPSJzdHlsZXNoZWV0IiBocmVmPSJodHRwczovL3Jhd2Nkbi5naXRoYWNrLmNvbS9weXRob24tdmlzdWFsaXphdGlvbi9mb2xpdW0vbWFzdGVyL2ZvbGl1bS90ZW1wbGF0ZXMvbGVhZmxldC5hd2Vzb21lLnJvdGF0ZS5jc3MiLz4KICAgIDxzdHlsZT5odG1sLCBib2R5IHt3aWR0aDogMTAwJTtoZWlnaHQ6IDEwMCU7bWFyZ2luOiAwO3BhZGRpbmc6IDA7fTwvc3R5bGU+CiAgICA8c3R5bGU+I21hcCB7cG9zaXRpb246YWJzb2x1dGU7dG9wOjA7Ym90dG9tOjA7cmlnaHQ6MDtsZWZ0OjA7fTwvc3R5bGU+CiAgICAKICAgICAgICAgICAgPG1ldGEgbmFtZT0idmlld3BvcnQiIGNvbnRlbnQ9IndpZHRoPWRldmljZS13aWR0aCwKICAgICAgICAgICAgICAgIGluaXRpYWwtc2NhbGU9MS4wLCBtYXhpbXVtLXNjYWxlPTEuMCwgdXNlci1zY2FsYWJsZT1ubyIgLz4KICAgICAgICAgICAgPHN0eWxlPgogICAgICAgICAgICAgICAgI21hcF8wOGVlMGRlNmQ2MmM0MTk2OWRiNjQ3MTY4ZTNiMmMxYiB7CiAgICAgICAgICAgICAgICAgICAgcG9zaXRpb246IHJlbGF0aXZlOwogICAgICAgICAgICAgICAgICAgIHdpZHRoOiAxMDAuMCU7CiAgICAgICAgICAgICAgICAgICAgaGVpZ2h0OiAxMDAuMCU7CiAgICAgICAgICAgICAgICAgICAgbGVmdDogMC4wJTsKICAgICAgICAgICAgICAgICAgICB0b3A6IDAuMCU7CiAgICAgICAgICAgICAgICB9CiAgICAgICAgICAgIDwvc3R5bGU+CiAgICAgICAgCjwvaGVhZD4KPGJvZHk+ICAgIAogICAgCiAgICAgICAgICAgIDxkaXYgY2xhc3M9ImZvbGl1bS1tYXAiIGlkPSJtYXBfMDhlZTBkZTZkNjJjNDE5NjlkYjY0NzE2OGUzYjJjMWIiID48L2Rpdj4KICAgICAgICAKPC9ib2R5Pgo8c2NyaXB0PiAgICAKICAgIAogICAgICAgICAgICB2YXIgbWFwXzA4ZWUwZGU2ZDYyYzQxOTY5ZGI2NDcxNjhlM2IyYzFiID0gTC5tYXAoCiAgICAgICAgICAgICAgICAibWFwXzA4ZWUwZGU2ZDYyYzQxOTY5ZGI2NDcxNjhlM2IyYzFiIiwKICAgICAgICAgICAgICAgIHsKICAgICAgICAgICAgICAgICAgICBjZW50ZXI6IFs1NS45NjIwNSwgNTQuNzM1MzddLAogICAgICAgICAgICAgICAgICAgIGNyczogTC5DUlMuRVBTRzM4NTcsCiAgICAgICAgICAgICAgICAgICAgem9vbTogMjAsCiAgICAgICAgICAgICAgICAgICAgem9vbUNvbnRyb2w6IHRydWUsCiAgICAgICAgICAgICAgICAgICAgcHJlZmVyQ2FudmFzOiBmYWxzZSwKICAgICAgICAgICAgICAgIH0KICAgICAgICAgICAgKTsKCiAgICAgICAgICAgIAoKICAgICAgICAKICAgIAogICAgICAgICAgICB2YXIgdGlsZV9sYXllcl81NmIzNzA4NDc5YjA0NDE1ODlhYzM5NDAxNTYxNzk0MyA9IEwudGlsZUxheWVyKAogICAgICAgICAgICAgICAgImh0dHBzOi8ve3N9LnRpbGUub3BlbnN0cmVldG1hcC5vcmcve3p9L3t4fS97eX0ucG5nIiwKICAgICAgICAgICAgICAgIHsiYXR0cmlidXRpb24iOiAiRGF0YSBieSBcdTAwMjZjb3B5OyBcdTAwM2NhIGhyZWY9XCJodHRwOi8vb3BlbnN0cmVldG1hcC5vcmdcIlx1MDAzZU9wZW5TdHJlZXRNYXBcdTAwM2MvYVx1MDAzZSwgdW5kZXIgXHUwMDNjYSBocmVmPVwiaHR0cDovL3d3dy5vcGVuc3RyZWV0bWFwLm9yZy9jb3B5cmlnaHRcIlx1MDAzZU9EYkxcdTAwM2MvYVx1MDAzZS4iLCAiZGV0ZWN0UmV0aW5hIjogZmFsc2UsICJtYXhOYXRpdmVab29tIjogMTgsICJtYXhab29tIjogMTgsICJtaW5ab29tIjogMCwgIm5vV3JhcCI6IGZhbHNlLCAib3BhY2l0eSI6IDEsICJzdWJkb21haW5zIjogImFiYyIsICJ0bXMiOiBmYWxzZX0KICAgICAgICAgICAgKS5hZGRUbyhtYXBfMDhlZTBkZTZkNjJjNDE5NjlkYjY0NzE2OGUzYjJjMWIpOwogICAgICAgIAogICAgCiAgICAgICAgICAgIHZhciBwb2x5X2xpbmVfNjNmNmRkMGI1YjRlNDBmNWIxY2VhZjQ3NTY2MGU3M2UgPSBMLnBvbHlsaW5lKAogICAgICAgICAgICAgICAgW1s1NS45NjE2NywgNTQuNzM1MzVdLCBbNTUuOTYyMTQsIDU0LjczNjQxXV0sCiAgICAgICAgICAgICAgICB7ImJ1YmJsaW5nTW91c2VFdmVudHMiOiB0cnVlLCAiY29sb3IiOiAicmVkIiwgImRhc2hBcnJheSI6IG51bGwsICJkYXNoT2Zmc2V0IjogbnVsbCwgImZpbGwiOiBmYWxzZSwgImZpbGxDb2xvciI6ICJyZWQiLCAiZmlsbE9wYWNpdHkiOiAwLjIsICJmaWxsUnVsZSI6ICJldmVub2RkIiwgImxpbmVDYXAiOiAicm91bmQiLCAibGluZUpvaW4iOiAicm91bmQiLCAibm9DbGlwIjogZmFsc2UsICJvcGFjaXR5IjogMSwgInNtb290aEZhY3RvciI6IDEuMCwgInN0cm9rZSI6IHRydWUsICJ3ZWlnaHQiOiAyLjV9CiAgICAgICAgICAgICkuYWRkVG8obWFwXzA4ZWUwZGU2ZDYyYzQxOTY5ZGI2NDcxNjhlM2IyYzFiKTsKICAgICAgICAKPC9zY3JpcHQ+ onload=\"this.contentDocument.open();this.contentDocument.write(atob(this.getAttribute('data-html')));this.contentDocument.close();\" allowfullscreen webkitallowfullscreen mozallowfullscreen></iframe></div></div>"
     },
     "metadata": {},
     "output_type": "execute_result",
     "execution_count": 6
    }
   ],
   "source": [
    "import folium\n",
    "\n",
    "points = [(55.96167, 54.73535),\n",
    "          (55.96214, 54.73641)]\n",
    "\n",
    "my_map = folium.Map([55.96205, 54.73537], zoom_start=20)\n",
    "\n",
    "folium.PolyLine(points, color=\"red\", weight=2.5, opacity=1).add_to(my_map)\n",
    "\n",
    "my_map"
   ],
   "metadata": {
    "collapsed": false,
    "pycharm": {
     "name": "#%%\n",
     "is_executing": false
    }
   }
  }
 ],
 "metadata": {
  "kernelspec": {
   "display_name": "Python 3",
   "language": "python",
   "name": "python3"
  },
  "language_info": {
   "codemirror_mode": {
    "name": "ipython",
    "version": 2
   },
   "file_extension": ".py",
   "mimetype": "text/x-python",
   "name": "python",
   "nbconvert_exporter": "python",
   "pygments_lexer": "ipython2",
   "version": "2.7.6"
  },
  "pycharm": {
   "stem_cell": {
    "cell_type": "raw",
    "source": [],
    "metadata": {
     "collapsed": false
    }
   }
  }
 },
 "nbformat": 4,
 "nbformat_minor": 0
}